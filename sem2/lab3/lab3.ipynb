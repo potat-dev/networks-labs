{
 "cells": [
  {
   "cell_type": "markdown",
   "metadata": {},
   "source": [
    "Случайный доступ\n",
    "Алгоритмы случайного доступа, рассматриваемые в лабораторной работе, относятся к децентрализованным системам управления доступа к среде. При децентрализованном доступе устройства равноправны и по некоторому алгоритму они организовывают доступ к общему каналу. Предполагается синхронная система, то есть все абоненты имеют синхронизированные часы (единая служба времени). Абоненты используют систему общего времени для доступа к каналу.\n",
    "\n",
    "Описывается модель случайного множественного доступа к каналу, где абоненты передают сообщения одинаковой длины в пределах временных слотов (окон). В каждом окне возможны три события: «Конфликт» (несколько абонентов передают одновременно, что приводит к искажению сообщений), «Успех» (один абонент успешно передает сообщение) и «Пусто» (нет передачи). В системе M абонентов, каждый из которых генерирует сообщения со средней интенсивностью λ/M в единицу времени, где λ — общая интенсивность входного потока сообщений.\n",
    "\n",
    "1. **Одинаковая длина сообщений и временные слоты:** Предполагается, что все сообщения имеют одинаковую длину. Время передачи одного сообщения принимается за единицу времени. Время работы канала разбито на слоты (окна), каждый из которых равен времени передачи одного сообщения. Абоненты синхронизированы и могут начинать передачу только в начале слота.\n",
    "\n",
    "2. **Три возможных события в слоте:**\n",
    "    * **Конфликт:** Два или более абонентов передают одновременно.  Наложение сигналов приводит к искажению сообщений, и ни одно сообщение не принимается.\n",
    "    * **Успех:**  Только один абонент передает в слоте, что приводит к успешной передаче сообщения.\n",
    "    * **Пусто:** Ни один абонент не передает в слоте.\n",
    "\n",
    "3. **Абоненты наблюдают выход канала:** Абоненты отслеживают выход канала в конце каждого слота и могут определить, какое из трех событий (Конфликт, Успех или Пусто) произошло.\n",
    "\n",
    "4. **M абонентов и пуассоновский поток сообщений:** В системе M абонентов. Сообщения поступают согласно пуассоновскому процессу с общей интенсивностью λ сообщений в единицу времени. Интенсивность поступления сообщений одинакова для всех абонентов и равна λ/M для каждого абонента."
   ]
  },
  {
   "cell_type": "markdown",
   "metadata": {},
   "source": [
    "Написать моделирующую программу для вероятностного адаптивного алгоритма ALOHA. Вероятность передачи определяется по следующему правилу, описанному в теоретических материалах."
   ]
  },
  {
   "cell_type": "code",
   "execution_count": 1,
   "metadata": {},
   "outputs": [
    {
     "name": "stdout",
     "output_type": "stream",
     "text": [
      "Throughput: 0.267\n",
      "Successful Transmissions: 267\n",
      "Collisions: 501\n",
      "Empty Slots: 232\n"
     ]
    }
   ],
   "source": [
    "import random\n",
    "\n",
    "def probabilistic_aloha(M, lambda_, simulation_time):\n",
    "    \"\"\"\n",
    "    Simulates probabilistic ALOHA with adaptive probability.\n",
    "\n",
    "    Args:\n",
    "        M: Number of users.\n",
    "        lambda_: Overall arrival rate of messages.\n",
    "        simulation_time: Total simulation time.\n",
    "\n",
    "    Returns:\n",
    "        Tuple: (Throughput, number of successful transmissions, number of collisions, number of empty slots)\n",
    "    \"\"\"\n",
    "\n",
    "    p = 1 / M  # Initial transmission probability\n",
    "    successful_transmissions = 0\n",
    "    collisions = 0\n",
    "    empty_slots = 0\n",
    "    current_time = 0\n",
    "\n",
    "    while current_time < simulation_time:\n",
    "        messages_to_transmit = []\n",
    "        # Generate messages for each user based on Poisson process\n",
    "        for user in range(M):\n",
    "            if random.random() < (lambda_ / M):  # Poisson arrival\n",
    "                messages_to_transmit.append(user)\n",
    "\n",
    "\n",
    "        transmitting_users = []\n",
    "        for user in messages_to_transmit:\n",
    "            if random.random() < p:\n",
    "                transmitting_users.append(user)\n",
    "\n",
    "        if len(transmitting_users) > 1:\n",
    "            collisions += 1\n",
    "            p = max(1 / M, p / 2)  # Adjust probability for collision\n",
    "        elif len(transmitting_users) == 1:\n",
    "            successful_transmissions += 1\n",
    "            p = min(1, 2 * p)      # Adjust probability for success\n",
    "        else:\n",
    "            empty_slots += 1\n",
    "            p = min(1, 2 * p)      # Adjust probability for empty slot\n",
    "\n",
    "        current_time += 1  # Increment time slot\n",
    "\n",
    "    throughput = successful_transmissions / simulation_time\n",
    "    return throughput, successful_transmissions, collisions, empty_slots\n",
    "\n",
    "\n",
    "# Example usage:\n",
    "M = 10  # Number of users\n",
    "lambda_ = 5  # Overall message arrival rate\n",
    "simulation_time = 1000  # Simulation time\n",
    "\n",
    "throughput, successes, collisions, empty = probabilistic_aloha(M, lambda_, simulation_time)\n",
    "\n",
    "print(f\"Throughput: {throughput}\")\n",
    "print(f\"Successful Transmissions: {successes}\")\n",
    "print(f\"Collisions: {collisions}\")\n",
    "print(f\"Empty Slots: {empty}\")"
   ]
  }
 ],
 "metadata": {
  "kernelspec": {
   "display_name": "Python 3",
   "language": "python",
   "name": "python3"
  },
  "language_info": {
   "codemirror_mode": {
    "name": "ipython",
    "version": 3
   },
   "file_extension": ".py",
   "mimetype": "text/x-python",
   "name": "python",
   "nbconvert_exporter": "python",
   "pygments_lexer": "ipython3",
   "version": "3.11.0"
  }
 },
 "nbformat": 4,
 "nbformat_minor": 2
}
