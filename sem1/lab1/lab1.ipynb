{
 "cells": [
  {
   "cell_type": "markdown",
   "metadata": {},
   "source": [
    "# Lab 1"
   ]
  },
  {
   "cell_type": "code",
   "execution_count": 1,
   "metadata": {},
   "outputs": [
    {
     "name": "stdout",
     "output_type": "stream",
     "text": [
      "Galois Field:\n",
      "  name: GF(2)\n",
      "  characteristic: 2\n",
      "  degree: 1\n",
      "  order: 2\n",
      "  irreducible_poly: x + 1\n",
      "  is_primitive_poly: True\n",
      "  primitive_element: 1\n"
     ]
    }
   ],
   "source": [
    "import numpy as np\n",
    "from galois import GF, Poly\n",
    "\n",
    "GF2 = GF(2)\n",
    "print(GF2.properties)"
   ]
  },
  {
   "cell_type": "code",
   "execution_count": 2,
   "metadata": {},
   "outputs": [],
   "source": [
    "class PolyOps:\n",
    "    @staticmethod\n",
    "    def multiply(poly1: Poly, poly2: Poly):\n",
    "        coeffs1 = poly1.coeffs\n",
    "        coeffs2 = poly2.coeffs\n",
    "\n",
    "        result = [0] * (len(coeffs1) + len(coeffs2) - 1)\n",
    "\n",
    "        for i in range(len(coeffs1)):\n",
    "            for j in range(len(coeffs2)):\n",
    "                result[i + j] ^= (coeffs1[i] & coeffs2[j])\n",
    "\n",
    "        return Poly.Int(int(''.join(map(str, result)), 2), field=GF2)\n",
    "\n",
    "    @staticmethod\n",
    "    def mod(poly, mod_poly):\n",
    "        coeffs = poly.coeffs\n",
    "        mod_coeffs = mod_poly.coeffs\n",
    "\n",
    "        mod_degree = len(mod_coeffs) - 1\n",
    "\n",
    "        for i in range(len(coeffs) - mod_degree):\n",
    "            if coeffs[i] != 0:\n",
    "                for j in range(len(mod_coeffs)):\n",
    "                    coeffs[i + j] ^= mod_coeffs[j]\n",
    "\n",
    "        remainder = coeffs[-mod_degree:]\n",
    "        \n",
    "        return Poly.Int(int(''.join(map(str, remainder)), 2), field=GF2)\n",
    "    \n",
    "    @staticmethod\n",
    "    def add(poly1, poly2):\n",
    "        coeffs1 = poly1.coeffs[::-1]\n",
    "        coeffs2 = poly2.coeffs[::-1]\n",
    "\n",
    "        result = [0] * max(len(coeffs1), len(coeffs2))\n",
    "\n",
    "        for i in range(len(coeffs1)):\n",
    "            result[i] ^= coeffs1[i]\n",
    "        for i in range(len(coeffs2)):\n",
    "            result[i] ^= coeffs2[i]\n",
    "\n",
    "        return Poly.Int(int(''.join(map(str, result[::-1])), 2), field=GF2)\n"
   ]
  },
  {
   "cell_type": "code",
   "execution_count": 3,
   "metadata": {},
   "outputs": [],
   "source": [
    "bin_g = \"1011\"\n",
    "bin_m = \"1010\"\n",
    "bin_e = \"1100101\" # will be justified for len (k + r)"
   ]
  },
  {
   "cell_type": "markdown",
   "metadata": {},
   "source": [
    "## Encode"
   ]
  },
  {
   "cell_type": "code",
   "execution_count": 4,
   "metadata": {},
   "outputs": [
    {
     "name": "stdout",
     "output_type": "stream",
     "text": [
      "bin(g) = 1011\n",
      "g(x) = x^3 + x + 1\n",
      "r = 3\n"
     ]
    }
   ],
   "source": [
    "g = Poly.Int(int(bin_g, 2), field=GF2)\n",
    "r = g.degree\n",
    "\n",
    "print('bin(g) =', bin_g)\n",
    "print('g(x) =', g)\n",
    "print('r =', r)"
   ]
  },
  {
   "cell_type": "code",
   "execution_count": 5,
   "metadata": {},
   "outputs": [
    {
     "name": "stdout",
     "output_type": "stream",
     "text": [
      "bin(m) = 1010\n",
      "m(x) =  x^3 + x\n",
      "deg(m) <= k - 1 : True\n"
     ]
    }
   ],
   "source": [
    "m = Poly.Int(int(bin_m, 2), field=GF2)\n",
    "deg_m = m.degree\n",
    "k = len(m)\n",
    "\n",
    "print('bin(m) =', bin_m)\n",
    "print('m(x) = ', m)\n",
    "print('deg(m) <= k - 1 :', deg_m <= k - 1)"
   ]
  },
  {
   "cell_type": "code",
   "execution_count": 6,
   "metadata": {},
   "outputs": [
    {
     "name": "stdout",
     "output_type": "stream",
     "text": [
      "x^r =  x^3\n",
      "c(x) = x + 1\n",
      "deg(c) <= r - 1 : True\n"
     ]
    }
   ],
   "source": [
    "x_pow_r = Poly.Degrees([r], field=GF2)\n",
    "\n",
    "# c = (m * x_pow_r) % g\n",
    "c = PolyOps.mod(PolyOps.multiply(m, x_pow_r), g)\n",
    "deg_c = c.degree\n",
    "\n",
    "print('x^r = ', x_pow_r)\n",
    "print('c(x) =', c)\n",
    "print('deg(c) <= r - 1 :', deg_c <= r - 1)"
   ]
  },
  {
   "cell_type": "code",
   "execution_count": 7,
   "metadata": {},
   "outputs": [
    {
     "name": "stdout",
     "output_type": "stream",
     "text": [
      "a(x) = x^6 + x^4 + x + 1\n",
      "bin(a) = 1010011\n",
      "a(x) mod g(x) = 0 : True\n"
     ]
    }
   ],
   "source": [
    "# a = (m * x_pow_r) + c\n",
    "a = PolyOps.multiply(m, x_pow_r) + c\n",
    "\n",
    "n = k + r\n",
    "bin_a = bin(a)[2:].rjust(n, '0')\n",
    "\n",
    "print('a(x) =', a)\n",
    "print('bin(a) =', bin_a)\n",
    "print('a(x) mod g(x) = 0 :', a % g == 0)"
   ]
  },
  {
   "cell_type": "code",
   "execution_count": 8,
   "metadata": {},
   "outputs": [],
   "source": [
    "def bin_str_xor(a: str, b: str) -> str:\n",
    "    max_len = max(len(a), len(b))\n",
    "    result = int(a, 2) ^ int(b, 2)\n",
    "    return bin(result)[2:].rjust(max_len, '0')"
   ]
  },
  {
   "cell_type": "code",
   "execution_count": 9,
   "metadata": {},
   "outputs": [
    {
     "name": "stdout",
     "output_type": "stream",
     "text": [
      "bin(a) = 1010011\n",
      "bin(e) = 1100101\n",
      "bin(b) = 0110110\n"
     ]
    }
   ],
   "source": [
    "bin_e = bin_e.rjust(n, '0')\n",
    "bin_b = bin_str_xor(bin_a, bin_e)\n",
    "\n",
    "print('bin(a) =', bin_a)\n",
    "print('bin(e) =', bin_e)\n",
    "print('bin(b) =', bin_b)"
   ]
  },
  {
   "cell_type": "markdown",
   "metadata": {},
   "source": [
    "## Decode"
   ]
  },
  {
   "cell_type": "code",
   "execution_count": 10,
   "metadata": {},
   "outputs": [
    {
     "name": "stdout",
     "output_type": "stream",
     "text": [
      "b(x) = x^5 + x^4 + x^2 + x\n"
     ]
    }
   ],
   "source": [
    "b = Poly.Int(int(bin_b, 2), field=GF2)\n",
    "\n",
    "print('b(x) =', b)"
   ]
  },
  {
   "cell_type": "code",
   "execution_count": 11,
   "metadata": {},
   "outputs": [
    {
     "name": "stdout",
     "output_type": "stream",
     "text": [
      "s(x) = x^2 + x + 1\n",
      "s(x) = 0 : False\n",
      "E = True\n"
     ]
    }
   ],
   "source": [
    "# s = b % g\n",
    "s = PolyOps.mod(b, g)\n",
    "E = s != 0\n",
    "\n",
    "print('s(x) =', s)\n",
    "print('s(x) = 0 :', s == 0)\n",
    "print('E =', E)"
   ]
  },
  {
   "cell_type": "markdown",
   "metadata": {},
   "source": [
    "### Dop B"
   ]
  },
  {
   "cell_type": "code",
   "execution_count": 12,
   "metadata": {},
   "outputs": [
    {
     "name": "stdout",
     "output_type": "stream",
     "text": [
      "Error found: True\n"
     ]
    }
   ],
   "source": [
    "def error_channel_model(bin_g, bin_m, bin_e):\n",
    "    g = Poly.Int(int(bin_g, 2), field=GF2)\n",
    "    r = g.degree\n",
    "    m = Poly.Int(int(bin_m, 2), field=GF2)\n",
    "    k = len(m)\n",
    "    x_pow_r = Poly.Degrees([r], field=GF2)\n",
    "    c = PolyOps.mod(PolyOps.multiply(m, x_pow_r), g)\n",
    "    a = PolyOps.multiply(m, x_pow_r) + c\n",
    "    n = k + r\n",
    "    bin_a = bin(a)[2:].rjust(n, '0')\n",
    "    bin_e = bin_e.rjust(n, '0')\n",
    "    bin_b = bin_str_xor(bin_a, bin_e)\n",
    "    b = Poly.Int(int(bin_b, 2), field=GF2)\n",
    "    s = PolyOps.mod(b, g)\n",
    "    E = s != 0\n",
    "    return E\n",
    "\n",
    "\n",
    "print(\"Error found:\", error_channel_model(bin_g, bin_m, bin_e))"
   ]
  },
  {
   "cell_type": "code",
   "execution_count": 28,
   "metadata": {},
   "outputs": [],
   "source": [
    "l, d = 4, 3\n",
    "n = l + d\n",
    "\n",
    "e_vectors = [\n",
    "    bin(i)[2:].rjust(n, '0') for i in range(2**n)\n",
    "    if bin(i).count('1') <= (d - 1) and bin(i).count('1') > 0\n",
    "]\n",
    "\n",
    "bin_a = bin_a.rjust(n, '0')\n",
    "for bin_e in e_vectors:\n",
    "    if not error_channel_model(bin_g, bin_m, bin_e):\n",
    "        print(f'Вектор ошибок {bin_e} НЕ обнаруживает E')"
   ]
  },
  {
   "cell_type": "code",
   "execution_count": 33,
   "metadata": {},
   "outputs": [],
   "source": [
    "def calc_for_custom_l(l, bin_a):\n",
    "    d = 3\n",
    "    n = l + d\n",
    "\n",
    "    e_vectors = [\n",
    "        bin(i)[2:].rjust(n, '0') for i in range(2**n)\n",
    "        if bin(i).count('1') <= (d - 1) and bin(i).count('1') > 0\n",
    "    ]\n",
    "\n",
    "    bin_a = bin_a.rjust(n, '0')\n",
    "    for bin_e in e_vectors:\n",
    "        if not error_channel_model(bin_g, bin_m, bin_e):\n",
    "            print(f'Вектор ошибок {bin_e} НЕ обнаруживает E')"
   ]
  },
  {
   "cell_type": "code",
   "execution_count": 46,
   "metadata": {},
   "outputs": [
    {
     "name": "stdout",
     "output_type": "stream",
     "text": [
      "Вектор ошибок 00000000000000010000001 НЕ обнаруживает E\n",
      "Вектор ошибок 00000000000000100000010 НЕ обнаруживает E\n",
      "Вектор ошибок 00000000000001000000100 НЕ обнаруживает E\n",
      "Вектор ошибок 00000000000010000001000 НЕ обнаруживает E\n",
      "Вектор ошибок 00000000000100000010000 НЕ обнаруживает E\n",
      "Вектор ошибок 00000000001000000100000 НЕ обнаруживает E\n",
      "Вектор ошибок 00000000010000001000000 НЕ обнаруживает E\n",
      "Вектор ошибок 00000000100000000000001 НЕ обнаруживает E\n",
      "Вектор ошибок 00000000100000010000000 НЕ обнаруживает E\n",
      "Вектор ошибок 00000001000000000000010 НЕ обнаруживает E\n",
      "Вектор ошибок 00000001000000100000000 НЕ обнаруживает E\n",
      "Вектор ошибок 00000010000000000000100 НЕ обнаруживает E\n",
      "Вектор ошибок 00000010000001000000000 НЕ обнаруживает E\n",
      "Вектор ошибок 00000100000000000001000 НЕ обнаруживает E\n",
      "Вектор ошибок 00000100000010000000000 НЕ обнаруживает E\n",
      "Вектор ошибок 00001000000000000010000 НЕ обнаруживает E\n",
      "Вектор ошибок 00001000000100000000000 НЕ обнаруживает E\n",
      "Вектор ошибок 00010000000000000100000 НЕ обнаруживает E\n",
      "Вектор ошибок 00010000001000000000000 НЕ обнаруживает E\n",
      "Вектор ошибок 00100000000000001000000 НЕ обнаруживает E\n",
      "Вектор ошибок 00100000010000000000000 НЕ обнаруживает E\n",
      "Вектор ошибок 01000000000000000000001 НЕ обнаруживает E\n",
      "Вектор ошибок 01000000000000010000000 НЕ обнаруживает E\n",
      "Вектор ошибок 01000000100000000000000 НЕ обнаруживает E\n",
      "Вектор ошибок 10000000000000000000010 НЕ обнаруживает E\n",
      "Вектор ошибок 10000000000000100000000 НЕ обнаруживает E\n",
      "Вектор ошибок 10000001000000000000000 НЕ обнаруживает E\n"
     ]
    }
   ],
   "source": [
    "calc_for_custom_l(20, bin_a)"
   ]
  },
  {
   "cell_type": "code",
   "execution_count": 14,
   "metadata": {},
   "outputs": [
    {
     "name": "stdout",
     "output_type": "stream",
     "text": [
      "Вектор ошибок 0000000 не обнаруживает ошибки.\n",
      "Вектор ошибок 10000001 не обнаруживает ошибки.\n",
      "Вектор ошибок 100000010 не обнаруживает ошибки.\n",
      "Вектор ошибок 1000000100 не обнаруживает ошибки.\n"
     ]
    }
   ],
   "source": [
    "l = 4\n",
    "d = 3\n",
    "\n",
    "e_vectors = [\n",
    "    bin(i)[2:].rjust(l + d, '0') for i in range(2**n)\n",
    "    if bin(i).count('1') <= (d - 1)\n",
    "]\n",
    "\n",
    "for e in e_vectors:\n",
    "    bin_e = e.rjust(n, '0')\n",
    "    bin_b = bin_str_xor(bin_a, bin_e)\n",
    "    b = Poly.Int(int(bin_b, 2), field=GF2)\n",
    "    s = b % g\n",
    "    E = s != 0\n",
    "    if not E:\n",
    "        print(f'Вектор ошибок {e} не обнаруживает ошибки.')\n"
   ]
  }
 ],
 "metadata": {
  "kernelspec": {
   "display_name": "Python 3",
   "language": "python",
   "name": "python3"
  },
  "language_info": {
   "codemirror_mode": {
    "name": "ipython",
    "version": 3
   },
   "file_extension": ".py",
   "mimetype": "text/x-python",
   "name": "python",
   "nbconvert_exporter": "python",
   "pygments_lexer": "ipython3",
   "version": "3.11.0"
  }
 },
 "nbformat": 4,
 "nbformat_minor": 2
}
